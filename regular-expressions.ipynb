{
 "cells": [
  {
   "cell_type": "code",
   "execution_count": 9,
   "metadata": {},
   "outputs": [
    {
     "name": "stdout",
     "output_type": "stream",
     "text": [
      "<_sre.SRE_Match object; span=(0, 5), match='tiger'>\n",
      "None\n",
      "<_sre.SRE_Match object; span=(22, 28), match='animal'>\n"
     ]
    }
   ],
   "source": [
    "import re\n",
    "\n",
    "mystr = \"tiger is the national animal of india\"\n",
    "pattern = \"tiger\"\n",
    "pattern2 = \"animal\"\n",
    "\n",
    "ismatch = re.match(pattern, mystr)\n",
    "print(ismatch)\n",
    "\n",
    "ismatch = re.match(pattern2, mystr)\n",
    "print(ismatch)\n",
    "\n",
    "ismatch = re.search(pattern2, mystr)\n",
    "print(ismatch)"
   ]
  },
  {
   "cell_type": "code",
   "execution_count": 6,
   "metadata": {},
   "outputs": [
    {
     "name": "stdout",
     "output_type": "stream",
     "text": [
      "<_sre.SRE_Match object; span=(31, 36), match='india'>\n"
     ]
    }
   ],
   "source": [
    "mystr = \"tiger is the national animal of india\"\n",
    "pattern = \"india\"\n",
    "\n",
    "ismatch = re.search(pattern, mystr)\n",
    "print (ismatch)"
   ]
  },
  {
   "cell_type": "code",
   "execution_count": 10,
   "metadata": {},
   "outputs": [
    {
     "name": "stdout",
     "output_type": "stream",
     "text": [
      "['national', 'national', 'national']\n"
     ]
    }
   ],
   "source": [
    "mystr = \"tger is the national animal of india, national bird is peacock and national sport is hockey\"\n",
    "pattern = \"national\"\n",
    "\n",
    "ismatch = re.findall(pattern, mystr)\n",
    "print (ismatch)"
   ]
  },
  {
   "cell_type": "code",
   "execution_count": 12,
   "metadata": {},
   "outputs": [
    {
     "name": "stdout",
     "output_type": "stream",
     "text": [
      "<callable_iterator object at 0x00000266AE003828>\n"
     ]
    }
   ],
   "source": [
    "ismatch = re.finditer(pattern, mystr)\n",
    "print(ismatch)"
   ]
  },
  {
   "cell_type": "code",
   "execution_count": 14,
   "metadata": {},
   "outputs": [
    {
     "name": "stdout",
     "output_type": "stream",
     "text": [
      "<built-in method start of _sre.SRE_Match object at 0x00000266AE0AC440>\n",
      "<built-in method start of _sre.SRE_Match object at 0x00000266AE0AC4A8>\n",
      "<built-in method start of _sre.SRE_Match object at 0x00000266AE0AC440>\n"
     ]
    }
   ],
   "source": [
    "for m in ismatch:\n",
    "    print(m.start)"
   ]
  },
  {
   "cell_type": "code",
   "execution_count": 20,
   "metadata": {},
   "outputs": [
    {
     "name": "stdout",
     "output_type": "stream",
     "text": [
      "['12-09-1992', '15-12-1999']\n"
     ]
    }
   ],
   "source": [
    "mystr = \"Rohan was born on 12-09-1992 and started going to school on 15-12-1999\"\n",
    "pattern = \"\\d{2}-\\d{2}-\\d{4}\"\n",
    "\n",
    "\n",
    "ismatch = re.findall(pattern, mystr)\n",
    "print (ismatch)"
   ]
  },
  {
   "cell_type": "code",
   "execution_count": 21,
   "metadata": {},
   "outputs": [
    {
     "name": "stdout",
     "output_type": "stream",
     "text": [
      "Rohan was born on Monday and started going to school on Monday\n"
     ]
    }
   ],
   "source": [
    "# Replace the substring\n",
    "\n",
    "s = re.sub(pattern, \"Monday\", mystr)\n",
    "print (s)"
   ]
  },
  {
   "cell_type": "code",
   "execution_count": 41,
   "metadata": {},
   "outputs": [
    {
     "name": "stdout",
     "output_type": "stream",
     "text": [
      "<_sre.SRE_Match object; span=(14, 32), match='training_queries@a'>\n",
      "None\n"
     ]
    }
   ],
   "source": [
    "string = \"Contact us on training_queries@analyticsvidhya.com\"\n",
    "\n",
    "# pattern = \"([\\w.-]+)@([\\w.-])\"\n",
    "# pattern = \"([\\w.-]+)@(\\w.-]+)\"\n",
    "\n",
    "pattern = \"([\\w.]+)@([\\w.]+)\"\n",
    "match = re.search(pattern, string)\n",
    "print(match)\n",
    "\n",
    "pattern2 = \"\\w.-\"\n",
    "match = re.search(pattern2, string)\n",
    "print(match)"
   ]
  },
  {
   "cell_type": "code",
   "execution_count": null,
   "metadata": {},
   "outputs": [],
   "source": []
  }
 ],
 "metadata": {
  "kernelspec": {
   "display_name": "Python 3",
   "language": "python",
   "name": "python3"
  },
  "language_info": {
   "codemirror_mode": {
    "name": "ipython",
    "version": 3
   },
   "file_extension": ".py",
   "mimetype": "text/x-python",
   "name": "python",
   "nbconvert_exporter": "python",
   "pygments_lexer": "ipython3",
   "version": "3.6.10"
  }
 },
 "nbformat": 4,
 "nbformat_minor": 4
}
